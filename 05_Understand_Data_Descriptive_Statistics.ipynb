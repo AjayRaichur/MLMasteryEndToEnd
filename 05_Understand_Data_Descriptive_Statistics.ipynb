{
 "cells": [
  {
   "cell_type": "markdown",
   "metadata": {},
   "source": [
    "# Chapter 5\n",
    "# Understand Your Data With Descriptive Statistics"
   ]
  },
  {
   "cell_type": "markdown",
   "metadata": {},
   "source": [
    "You must understand your data in order to get the best results.\n",
    "\n",
    "After reading this lesson you will know how to:\n",
    "1. Take a peek at your raw data.\n",
    "2. Review the dimensions of your dataset.\n",
    "3. Review the data types of attributes in your data.\n",
    "4. Summarize the distribution of instances across classes in your dataset.\n",
    "5. Summarize your data using descriptive statistics.\n",
    "6. Understand the relationships in your data using correlations.\n",
    "7. Review the skew of the distributions of each attribute."
   ]
  },
  {
   "cell_type": "markdown",
   "metadata": {},
   "source": [
    "## 5.1 Peek at Your Data\n",
    "\n",
    "There is no substitute for looking at the raw data. Looking at the raw data can reveal insights that you cannot get any other way. It can also plant seeds that may later grow into ideas on how to better pre-process and handle the data for machine learning tasks.\n",
    "\n",
    "<b>Note</b>. You can see that the first column lists the row number, which is handy for referencing a specific observation."
   ]
  },
  {
   "cell_type": "code",
   "execution_count": 6,
   "metadata": {},
   "outputs": [
    {
     "name": "stdout",
     "output_type": "stream",
     "text": [
      "   preg  plas  pres  skin  test  mass   pedi  age  class\n",
      "0     6   148    72    35     0  33.6  0.627   50      1\n",
      "1     1    85    66    29     0  26.6  0.351   31      0\n",
      "2     8   183    64     0     0  23.3  0.672   32      1\n",
      "3     1    89    66    23    94  28.1  0.167   21      0\n",
      "4     0   137    40    35   168  43.1  2.288   33      1\n",
      "5     5   116    74     0     0  25.6  0.201   30      0\n",
      "6     3    78    50    32    88  31.0  0.248   26      1\n",
      "7    10   115     0     0     0  35.3  0.134   29      0\n",
      "8     2   197    70    45   543  30.5  0.158   53      1\n",
      "9     8   125    96     0     0   0.0  0.232   54      1\n"
     ]
    }
   ],
   "source": [
    "# View first 20 rows\n",
    "from pandas import read_csv\n",
    "\n",
    "filename = '.\\data\\pima-indians-diabetes.data.csv'\n",
    "\n",
    "names = ['preg', 'plas', 'pres', 'skin', 'test', 'mass', 'pedi', 'age', 'class']\n",
    "data = read_csv(filename, names=names)\n",
    "\n",
    "peek = data.head(10)\n",
    "print(peek)"
   ]
  },
  {
   "cell_type": "markdown",
   "metadata": {},
   "source": [
    "## 5.2 Dimensions of Your Data\n",
    "\n",
    "You must have a very good handle on how much data you have, both in terms of rows and\n",
    "columns.\n",
    "- Too many rows and algorithms may take too long to train. <a>Too few and perhaps you do not have enough data to train the algorithms</a>.\n",
    "- Too many features and some algorithms can be <a>distracted or suffer poor performance due to the curse of dimensionality</a>.\n",
    "\n",
    "You can review the shape and size of your dataset by printing the shape property on the Pandas DataFrame."
   ]
  },
  {
   "cell_type": "code",
   "execution_count": 7,
   "metadata": {},
   "outputs": [
    {
     "name": "stdout",
     "output_type": "stream",
     "text": [
      "(768, 9)\n"
     ]
    }
   ],
   "source": [
    "# Dimensions of your data\n",
    "from pandas import read_csv\n",
    "\n",
    "filename = '.\\data\\pima-indians-diabetes.data.csv'\n",
    "\n",
    "names = ['preg', 'plas', 'pres', 'skin', 'test', 'mass', 'pedi', 'age', 'class']\n",
    "data = read_csv(filename, names=names)\n",
    "\n",
    "shape = data.shape\n",
    "print(shape)"
   ]
  },
  {
   "cell_type": "markdown",
   "metadata": {},
   "source": [
    "<b>Note</b>. The results are listed in rows then columns. You can see that the dataset has 768 rows and 9 columns."
   ]
  },
  {
   "cell_type": "markdown",
   "metadata": {},
   "source": [
    "## 5.3 Data Type For Each Attribute\n",
    "\n",
    "The type of each attribute is important. <b>Strings</b> may need to be <a>converted to floating point values or integers to represent categorical or ordinal values</a>. You can get an idea of the types of attributes by peeking at the raw data, as above. You can also list the data types used by the DataFrame to characterize each attribute using the dtypes property."
   ]
  },
  {
   "cell_type": "code",
   "execution_count": 9,
   "metadata": {},
   "outputs": [
    {
     "name": "stdout",
     "output_type": "stream",
     "text": [
      "preg       int64\n",
      "plas       int64\n",
      "pres       int64\n",
      "skin       int64\n",
      "test       int64\n",
      "mass     float64\n",
      "pedi     float64\n",
      "age        int64\n",
      "class      int64\n",
      "dtype: object\n"
     ]
    }
   ],
   "source": [
    "# Data Types for Each Attribute\n",
    "from pandas import read_csv\n",
    "\n",
    "filename = '.\\data\\pima-indians-diabetes.data.csv'\n",
    "\n",
    "names = ['preg', 'plas', 'pres', 'skin', 'test', 'mass', 'pedi', 'age', 'class']\n",
    "data = read_csv(filename, names=names)\n",
    "\n",
    "types = data.dtypes\n",
    "print(types)"
   ]
  },
  {
   "cell_type": "markdown",
   "metadata": {},
   "source": [
    "## 5.4 Descriptive Statistics\n",
    "\n",
    "Descriptive statistics can give you great insight into the shape of each attribute. Often you can\n",
    "create more summaries than you have time to review. The <b>describe()</B> function on the <a>Pandas\n",
    "DataFrame lists 8 statistical properties of each attribute</a>. They are:\n",
    "- Count.\n",
    "- Mean.\n",
    "- Standard Deviation.\n",
    "- Minimum Value.\n",
    "- 25th Percentile.\n",
    "- 50th Percentile (Median).\n",
    "- 75th Percentile.\n",
    "- Maximum Value."
   ]
  },
  {
   "cell_type": "code",
   "execution_count": 24,
   "metadata": {},
   "outputs": [
    {
     "name": "stdout",
     "output_type": "stream",
     "text": [
      "          preg     plas     pres     skin     test     mass     pedi      age    class\n",
      "count  768.000  768.000  768.000  768.000  768.000  768.000  768.000  768.000  768.000\n",
      "mean     3.845  120.895   69.105   20.536   79.799   31.993    0.472   33.241    0.349\n",
      "std      3.370   31.973   19.356   15.952  115.244    7.884    0.331   11.760    0.477\n",
      "min      0.000    0.000    0.000    0.000    0.000    0.000    0.078   21.000    0.000\n",
      "25%      1.000   99.000   62.000    0.000    0.000   27.300    0.244   24.000    0.000\n",
      "50%      3.000  117.000   72.000   23.000   30.500   32.000    0.372   29.000    0.000\n",
      "75%      6.000  140.250   80.000   32.000  127.250   36.600    0.626   41.000    1.000\n",
      "max     17.000  199.000  122.000   99.000  846.000   67.100    2.420   81.000    1.000\n"
     ]
    }
   ],
   "source": [
    "# Statistical Summary\n",
    "from pandas import read_csv\n",
    "from pandas import set_option\n",
    "\n",
    "filename = '.\\data\\pima-indians-diabetes.data.csv'\n",
    "\n",
    "names = ['preg', 'plas', 'pres', 'skin', 'test', 'mass', 'pedi', 'age', 'class']\n",
    "data = read_csv(filename, names=names)\n",
    "\n",
    "set_option('display.width', 100)\n",
    "set_option('precision', 3) # decimals\n",
    "\n",
    "description = data.describe()\n",
    "print(description)"
   ]
  },
  {
   "cell_type": "code",
   "execution_count": 17,
   "metadata": {},
   "outputs": [
    {
     "ename": "SyntaxError",
     "evalue": "invalid syntax (<ipython-input-17-21bbbca816c2>, line 10)",
     "output_type": "error",
     "traceback": [
      "\u001b[1;36m  File \u001b[1;32m\"<ipython-input-17-21bbbca816c2>\"\u001b[1;36m, line \u001b[1;32m10\u001b[0m\n\u001b[1;33m    3plt.plot(x,iq)\u001b[0m\n\u001b[1;37m       ^\u001b[0m\n\u001b[1;31mSyntaxError\u001b[0m\u001b[1;31m:\u001b[0m invalid syntax\n"
     ]
    }
   ],
   "source": [
    "#import numpy as np\n",
    "#import matplotlib.pyplot as plt\n",
    "#from scipy import stats as stats\n",
    "#\n",
    "# if using a Jupyter notebook, inlcude:\n",
    "#%matplotlib inline\n",
    "#\n",
    "#x = np.linspace(50,150,100)\n",
    "#iq = stats.norm.pdf(x, 100, 16)\n",
    "#plt.plot(x,iq)"
   ]
  },
  {
   "cell_type": "markdown",
   "metadata": {},
   "source": [
    "## 5.5 Class Distribution (<font color='blue'>Classification Only</font>)\n",
    "\n",
    "On classigfication problems you need to know how balanced the class values are. <b>Highly imbalanced problems</b> (<a>a lot more observations for one class than another</a>) are common and may need special handling in the data preparation stage of your project. You can quickly get an idea of the distribution of the class attribute in Pandas."
   ]
  },
  {
   "cell_type": "code",
   "execution_count": 34,
   "metadata": {},
   "outputs": [
    {
     "name": "stdout",
     "output_type": "stream",
     "text": [
      "class\n",
      "0    500\n",
      "1    268\n",
      "dtype: int64\n"
     ]
    }
   ],
   "source": [
    "# Class Distribution\n",
    "from pandas import read_csv\n",
    "\n",
    "filename = '.\\data\\pima-indians-diabetes.data.csv'\n",
    "\n",
    "names = ['preg', 'plas', 'pres', 'skin', 'test', 'mass', 'pedi', 'age', 'class']\n",
    "data = read_csv(filename, names=names)\n",
    "\n",
    "class_counts = data.groupby('class').size()\n",
    "print(class_counts)\n",
    "\n",
    "#class_counts = data.groupby('age').size()\n",
    "#print(class_counts)\n",
    "\n",
    "#class_counts = data.groupby('preg').size()\n",
    "#print(class_counts)"
   ]
  },
  {
   "cell_type": "markdown",
   "metadata": {},
   "source": [
    "<b>Note</b>. You can see that there are nearly double the number of observations with class 0 (<a>no onset of diabetes</a>) than there are with class 1 (<a>onset of diabetes</a>)."
   ]
  },
  {
   "cell_type": "markdown",
   "metadata": {},
   "source": [
    "## 5.6 Correlations Between Attributes\n",
    "\n",
    "Correlation refers to the relationship between two variables and how they may or may not change together. The most common method for calculating correlation is <b>Pearson's Correlation Coeficient</b>, that <a>assumes a normal distribution of the attributes involved. A correlation of -1 or 1 shows a full negative or positive correlation respectively. Whereas a value of 0 shows no correlation at all</a>. Some machine learning algorithms like linear and logistic regression can suffer poor  performance if there are highly correlated attributes in your dataset. As such, it is a good idea to review all of the pairwise correlations of the attributes in your dataset. You can use the corr() function on the Pandas DataFrame to calculate a correlation matrix."
   ]
  },
  {
   "cell_type": "code",
   "execution_count": 35,
   "metadata": {},
   "outputs": [
    {
     "name": "stdout",
     "output_type": "stream",
     "text": [
      "        preg   plas   pres   skin   test   mass   pedi    age  class\n",
      "preg   1.000  0.129  0.141 -0.082 -0.074  0.018 -0.034  0.544  0.222\n",
      "plas   0.129  1.000  0.153  0.057  0.331  0.221  0.137  0.264  0.467\n",
      "pres   0.141  0.153  1.000  0.207  0.089  0.282  0.041  0.240  0.065\n",
      "skin  -0.082  0.057  0.207  1.000  0.437  0.393  0.184 -0.114  0.075\n",
      "test  -0.074  0.331  0.089  0.437  1.000  0.198  0.185 -0.042  0.131\n",
      "mass   0.018  0.221  0.282  0.393  0.198  1.000  0.141  0.036  0.293\n",
      "pedi  -0.034  0.137  0.041  0.184  0.185  0.141  1.000  0.034  0.174\n",
      "age    0.544  0.264  0.240 -0.114 -0.042  0.036  0.034  1.000  0.238\n",
      "class  0.222  0.467  0.065  0.075  0.131  0.293  0.174  0.238  1.000\n"
     ]
    }
   ],
   "source": [
    "# Pairwise Pearson correlations\n",
    "from pandas import read_csv\n",
    "from pandas import set_option\n",
    "\n",
    "filename = '.\\data\\pima-indians-diabetes.data.csv'\n",
    "\n",
    "names = ['preg', 'plas', 'pres', 'skin', 'test', 'mass', 'pedi', 'age', 'class']\n",
    "data = read_csv(filename, names=names)\n",
    "\n",
    "set_option('display.width', 100)\n",
    "set_option('precision', 3)\n",
    "\n",
    "correlations = data.corr(method='pearson')\n",
    "print(correlations)"
   ]
  },
  {
   "cell_type": "markdown",
   "metadata": {},
   "source": [
    "<b>Note</b>. The matrix lists all attributes across the top and down the side, to give correlation between all pairs of attributes (twice, because the matrix is symmetrical). You can see the diagonal line through the matrix from the top left to bottom right corners of the matrix shows perfect correlation of each attribute with itself."
   ]
  },
  {
   "cell_type": "code",
   "execution_count": 37,
   "metadata": {},
   "outputs": [
    {
     "data": {
      "image/png": "[encoded data removed]",
      "text/plain": [
       "<Figure size 288x288 with 1 Axes>"
      ]
     },
     "metadata": {
      "needs_background": "light"
     },
     "output_type": "display_data"
    }
   ],
   "source": [
    "import matplotlib.pyplot as plt\n",
    "\n",
    "# if using a Jupyter notebook, inlcude:\n",
    "%matplotlib inline\n",
    "\n",
    "plt.matshow(correlations)\n",
    "plt.show()"
   ]
  },
  {
   "cell_type": "code",
   "execution_count": 56,
   "metadata": {
    "scrolled": true
   },
   "outputs": [
    {
     "data": {
      "image/png": "[encoded data removed]",
      "text/plain": [
       "<Figure size 720x720 with 2 Axes>"
      ]
     },
     "metadata": {
      "needs_background": "light"
     },
     "output_type": "display_data"
    }
   ],
   "source": [
    "f = plt.figure(figsize=(10, 10))\n",
    "plt.matshow(correlations, fignum=f.number)\n",
    "plt.xticks(range(data.shape[1]), data.columns, fontsize=10, rotation=45)\n",
    "plt.yticks(range(data.shape[1]), data.columns, fontsize=10)\n",
    "cb = plt.colorbar()\n",
    "cb.ax.tick_params(labelsize=10)\n",
    "plt.title('Correlation Matrix', fontsize=10);"
   ]
  },
  {
   "cell_type": "code",
   "execution_count": 57,
   "metadata": {},
   "outputs": [
    {
     "data": {
      "text/html": [
       "<style  type=\"text/css\" >\n",
       "    #T_7278c1a6_4c7f_11ea_a217_84a93e39062arow0_col0 {\n",
       "            background-color:  #b40426;\n",
       "            color:  #f1f1f1;\n",
       "        }    #T_7278c1a6_4c7f_11ea_a217_84a93e39062arow0_col1 {\n",
       "            background-color:  #516ddb;\n",
       "            color:  #000000;\n",
       "        }    #T_7278c1a6_4c7f_11ea_a217_84a93e39062arow0_col2 {\n",
       "            background-color:  #5a78e4;\n",
       "            color:  #000000;\n",
       "        }    #T_7278c1a6_4c7f_11ea_a217_84a93e39062arow0_col3 {\n",
       "            background-color:  #4358cb;\n",
       "            color:  #f1f1f1;\n",
       "        }    #T_7278c1a6_4c7f_11ea_a217_84a93e39062arow0_col4 {\n",
       "            background-color:  #3b4cc0;\n",
       "            color:  #f1f1f1;\n",
       "        }    #T_7278c1a6_4c7f_11ea_a217_84a93e39062arow0_col5 {\n",
       "            background-color:  #3b4cc0;\n",
       "            color:  #f1f1f1;\n",
       "        }    #T_7278c1a6_4c7f_11ea_a217_84a93e39062arow0_col6 {\n",
       "            background-color:  #3b4cc0;\n",
       "            color:  #f1f1f1;\n",
       "        }    #T_7278c1a6_4c7f_11ea_a217_84a93e39062arow0_col7 {\n",
       "            background-color:  #f1cdba;\n",
       "            color:  #000000;\n",
       "        }    #T_7278c1a6_4c7f_11ea_a217_84a93e39062arow0_col8 {\n",
       "            background-color:  #6f92f3;\n",
       "            color:  #000000;\n",
       "        }    #T_7278c1a6_4c7f_11ea_a217_84a93e39062arow1_col0 {\n",
       "            background-color:  #799cf8;\n",
       "            color:  #000000;\n",
       "        }    #T_7278c1a6_4c7f_11ea_a217_84a93e39062arow1_col1 {\n",
       "            background-color:  #b40426;\n",
       "            color:  #f1f1f1;\n",
       "        }    #T_7278c1a6_4c7f_11ea_a217_84a93e39062arow1_col2 {\n",
       "            background-color:  #5e7de7;\n",
       "            color:  #000000;\n",
       "        }    #T_7278c1a6_4c7f_11ea_a217_84a93e39062arow1_col3 {\n",
       "            background-color:  #6b8df0;\n",
       "            color:  #000000;\n",
       "        }    #T_7278c1a6_4c7f_11ea_a217_84a93e39062arow1_col4 {\n",
       "            background-color:  #b9d0f9;\n",
       "            color:  #000000;\n",
       "        }    #T_7278c1a6_4c7f_11ea_a217_84a93e39062arow1_col5 {\n",
       "            background-color:  #7ea1fa;\n",
       "            color:  #000000;\n",
       "        }    #T_7278c1a6_4c7f_11ea_a217_84a93e39062arow1_col6 {\n",
       "            background-color:  #6f92f3;\n",
       "            color:  #000000;\n",
       "        }    #T_7278c1a6_4c7f_11ea_a217_84a93e39062arow1_col7 {\n",
       "            background-color:  #abc8fd;\n",
       "            color:  #000000;\n",
       "        }    #T_7278c1a6_4c7f_11ea_a217_84a93e39062arow1_col8 {\n",
       "            background-color:  #c9d7f0;\n",
       "            color:  #000000;\n",
       "        }    #T_7278c1a6_4c7f_11ea_a217_84a93e39062arow2_col0 {\n",
       "            background-color:  #7da0f9;\n",
       "            color:  #000000;\n",
       "        }    #T_7278c1a6_4c7f_11ea_a217_84a93e39062arow2_col1 {\n",
       "            background-color:  #5977e3;\n",
       "            color:  #000000;\n",
       "        }    #T_7278c1a6_4c7f_11ea_a217_84a93e39062arow2_col2 {\n",
       "            background-color:  #b40426;\n",
       "            color:  #f1f1f1;\n",
       "        }    #T_7278c1a6_4c7f_11ea_a217_84a93e39062arow2_col3 {\n",
       "            background-color:  #9abbff;\n",
       "            color:  #000000;\n",
       "        }    #T_7278c1a6_4c7f_11ea_a217_84a93e39062arow2_col4 {\n",
       "            background-color:  #6a8bef;\n",
       "            color:  #000000;\n",
       "        }    #T_7278c1a6_4c7f_11ea_a217_84a93e39062arow2_col5 {\n",
       "            background-color:  #93b5fe;\n",
       "            color:  #000000;\n",
       "        }    #T_7278c1a6_4c7f_11ea_a217_84a93e39062arow2_col6 {\n",
       "            background-color:  #506bda;\n",
       "            color:  #000000;\n",
       "        }    #T_7278c1a6_4c7f_11ea_a217_84a93e39062arow2_col7 {\n",
       "            background-color:  #a5c3fe;\n",
       "            color:  #000000;\n",
       "        }    #T_7278c1a6_4c7f_11ea_a217_84a93e39062arow2_col8 {\n",
       "            background-color:  #3b4cc0;\n",
       "            color:  #f1f1f1;\n",
       "        }    #T_7278c1a6_4c7f_11ea_a217_84a93e39062arow3_col0 {\n",
       "            background-color:  #3b4cc0;\n",
       "            color:  #f1f1f1;\n",
       "        }    #T_7278c1a6_4c7f_11ea_a217_84a93e39062arow3_col1 {\n",
       "            background-color:  #3b4cc0;\n",
       "            color:  #f1f1f1;\n",
       "        }    #T_7278c1a6_4c7f_11ea_a217_84a93e39062arow3_col2 {\n",
       "            background-color:  #7295f4;\n",
       "            color:  #000000;\n",
       "        }    #T_7278c1a6_4c7f_11ea_a217_84a93e39062arow3_col3 {\n",
       "            background-color:  #b40426;\n",
       "            color:  #f1f1f1;\n",
       "        }    #T_7278c1a6_4c7f_11ea_a217_84a93e39062arow3_col4 {\n",
       "            background-color:  #d6dce4;\n",
       "            color:  #000000;\n",
       "        }    #T_7278c1a6_4c7f_11ea_a217_84a93e39062arow3_col5 {\n",
       "            background-color:  #bad0f8;\n",
       "            color:  #000000;\n",
       "        }    #T_7278c1a6_4c7f_11ea_a217_84a93e39062arow3_col6 {\n",
       "            background-color:  #7ea1fa;\n",
       "            color:  #000000;\n",
       "        }    #T_7278c1a6_4c7f_11ea_a217_84a93e39062arow3_col7 {\n",
       "            background-color:  #3b4cc0;\n",
       "            color:  #f1f1f1;\n",
       "        }    #T_7278c1a6_4c7f_11ea_a217_84a93e39062arow3_col8 {\n",
       "            background-color:  #3d50c3;\n",
       "            color:  #f1f1f1;\n",
       "        }    #T_7278c1a6_4c7f_11ea_a217_84a93e39062arow4_col0 {\n",
       "            background-color:  #3c4ec2;\n",
       "            color:  #f1f1f1;\n",
       "        }    #T_7278c1a6_4c7f_11ea_a217_84a93e39062arow4_col1 {\n",
       "            background-color:  #9bbcff;\n",
       "            color:  #000000;\n",
       "        }    #T_7278c1a6_4c7f_11ea_a217_84a93e39062arow4_col2 {\n",
       "            background-color:  #4961d2;\n",
       "            color:  #f1f1f1;\n",
       "        }    #T_7278c1a6_4c7f_11ea_a217_84a93e39062arow4_col3 {\n",
       "            background-color:  #dbdcde;\n",
       "            color:  #000000;\n",
       "        }    #T_7278c1a6_4c7f_11ea_a217_84a93e39062arow4_col4 {\n",
       "            background-color:  #b40426;\n",
       "            color:  #f1f1f1;\n",
       "        }    #T_7278c1a6_4c7f_11ea_a217_84a93e39062arow4_col5 {\n",
       "            background-color:  #7597f6;\n",
       "            color:  #000000;\n",
       "        }    #T_7278c1a6_4c7f_11ea_a217_84a93e39062arow4_col6 {\n",
       "            background-color:  #80a3fa;\n",
       "            color:  #000000;\n",
       "        }    #T_7278c1a6_4c7f_11ea_a217_84a93e39062arow4_col7 {\n",
       "            background-color:  #4e68d8;\n",
       "            color:  #000000;\n",
       "        }    #T_7278c1a6_4c7f_11ea_a217_84a93e39062arow4_col8 {\n",
       "            background-color:  #4f69d9;\n",
       "            color:  #000000;\n",
       "        }    #T_7278c1a6_4c7f_11ea_a217_84a93e39062arow5_col0 {\n",
       "            background-color:  #5673e0;\n",
       "            color:  #000000;\n",
       "        }    #T_7278c1a6_4c7f_11ea_a217_84a93e39062arow5_col1 {\n",
       "            background-color:  #7295f4;\n",
       "            color:  #000000;\n",
       "        }    #T_7278c1a6_4c7f_11ea_a217_84a93e39062arow5_col2 {\n",
       "            background-color:  #8db0fe;\n",
       "            color:  #000000;\n",
       "        }    #T_7278c1a6_4c7f_11ea_a217_84a93e39062arow5_col3 {\n",
       "            background-color:  #d1dae9;\n",
       "            color:  #000000;\n",
       "        }    #T_7278c1a6_4c7f_11ea_a217_84a93e39062arow5_col4 {\n",
       "            background-color:  #8db0fe;\n",
       "            color:  #000000;\n",
       "        }    #T_7278c1a6_4c7f_11ea_a217_84a93e39062arow5_col5 {\n",
       "            background-color:  #b40426;\n",
       "            color:  #f1f1f1;\n",
       "        }    #T_7278c1a6_4c7f_11ea_a217_84a93e39062arow5_col6 {\n",
       "            background-color:  #7093f3;\n",
       "            color:  #000000;\n",
       "        }    #T_7278c1a6_4c7f_11ea_a217_84a93e39062arow5_col7 {\n",
       "            background-color:  #6485ec;\n",
       "            color:  #000000;\n",
       "        }    #T_7278c1a6_4c7f_11ea_a217_84a93e39062arow5_col8 {\n",
       "            background-color:  #8badfd;\n",
       "            color:  #000000;\n",
       "        }    #T_7278c1a6_4c7f_11ea_a217_84a93e39062arow6_col0 {\n",
       "            background-color:  #485fd1;\n",
       "            color:  #f1f1f1;\n",
       "        }    #T_7278c1a6_4c7f_11ea_a217_84a93e39062arow6_col1 {\n",
       "            background-color:  #5470de;\n",
       "            color:  #000000;\n",
       "        }    #T_7278c1a6_4c7f_11ea_a217_84a93e39062arow6_col2 {\n",
       "            background-color:  #3b4cc0;\n",
       "            color:  #f1f1f1;\n",
       "        }    #T_7278c1a6_4c7f_11ea_a217_84a93e39062arow6_col3 {\n",
       "            background-color:  #93b5fe;\n",
       "            color:  #000000;\n",
       "        }    #T_7278c1a6_4c7f_11ea_a217_84a93e39062arow6_col4 {\n",
       "            background-color:  #89acfd;\n",
       "            color:  #000000;\n",
       "        }    #T_7278c1a6_4c7f_11ea_a217_84a93e39062arow6_col5 {\n",
       "            background-color:  #6282ea;\n",
       "            color:  #000000;\n",
       "        }    #T_7278c1a6_4c7f_11ea_a217_84a93e39062arow6_col6 {\n",
       "            background-color:  #b40426;\n",
       "            color:  #f1f1f1;\n",
       "        }    #T_7278c1a6_4c7f_11ea_a217_84a93e39062arow6_col7 {\n",
       "            background-color:  #6384eb;\n",
       "            color:  #000000;\n",
       "        }    #T_7278c1a6_4c7f_11ea_a217_84a93e39062arow6_col8 {\n",
       "            background-color:  #5e7de7;\n",
       "            color:  #000000;\n",
       "        }    #T_7278c1a6_4c7f_11ea_a217_84a93e39062arow7_col0 {\n",
       "            background-color:  #efcfbf;\n",
       "            color:  #000000;\n",
       "        }    #T_7278c1a6_4c7f_11ea_a217_84a93e39062arow7_col1 {\n",
       "            background-color:  #81a4fb;\n",
       "            color:  #000000;\n",
       "        }    #T_7278c1a6_4c7f_11ea_a217_84a93e39062arow7_col2 {\n",
       "            background-color:  #7da0f9;\n",
       "            color:  #000000;\n",
       "        }    #T_7278c1a6_4c7f_11ea_a217_84a93e39062arow7_col3 {\n",
       "            background-color:  #3b4cc0;\n",
       "            color:  #f1f1f1;\n",
       "        }    #T_7278c1a6_4c7f_11ea_a217_84a93e39062arow7_col4 {\n",
       "            background-color:  #4358cb;\n",
       "            color:  #f1f1f1;\n",
       "        }    #T_7278c1a6_4c7f_11ea_a217_84a93e39062arow7_col5 {\n",
       "            background-color:  #3f53c6;\n",
       "            color:  #f1f1f1;\n",
       "        }    #T_7278c1a6_4c7f_11ea_a217_84a93e39062arow7_col6 {\n",
       "            background-color:  #4e68d8;\n",
       "            color:  #000000;\n",
       "        }    #T_7278c1a6_4c7f_11ea_a217_84a93e39062arow7_col7 {\n",
       "            background-color:  #b40426;\n",
       "            color:  #f1f1f1;\n",
       "        }    #T_7278c1a6_4c7f_11ea_a217_84a93e39062arow7_col8 {\n",
       "            background-color:  #7699f6;\n",
       "            color:  #000000;\n",
       "        }    #T_7278c1a6_4c7f_11ea_a217_84a93e39062arow8_col0 {\n",
       "            background-color:  #97b8ff;\n",
       "            color:  #000000;\n",
       "        }    #T_7278c1a6_4c7f_11ea_a217_84a93e39062arow8_col1 {\n",
       "            background-color:  #cbd8ee;\n",
       "            color:  #000000;\n",
       "        }    #T_7278c1a6_4c7f_11ea_a217_84a93e39062arow8_col2 {\n",
       "            background-color:  #4257c9;\n",
       "            color:  #f1f1f1;\n",
       "        }    #T_7278c1a6_4c7f_11ea_a217_84a93e39062arow8_col3 {\n",
       "            background-color:  #7093f3;\n",
       "            color:  #000000;\n",
       "        }    #T_7278c1a6_4c7f_11ea_a217_84a93e39062arow8_col4 {\n",
       "            background-color:  #779af7;\n",
       "            color:  #000000;\n",
       "        }    #T_7278c1a6_4c7f_11ea_a217_84a93e39062arow8_col5 {\n",
       "            background-color:  #97b8ff;\n",
       "            color:  #000000;\n",
       "        }    #T_7278c1a6_4c7f_11ea_a217_84a93e39062arow8_col6 {\n",
       "            background-color:  #7b9ff9;\n",
       "            color:  #000000;\n",
       "        }    #T_7278c1a6_4c7f_11ea_a217_84a93e39062arow8_col7 {\n",
       "            background-color:  #a3c2fe;\n",
       "            color:  #000000;\n",
       "        }    #T_7278c1a6_4c7f_11ea_a217_84a93e39062arow8_col8 {\n",
       "            background-color:  #b40426;\n",
       "            color:  #f1f1f1;\n",
       "        }</style><table id=\"T_7278c1a6_4c7f_11ea_a217_84a93e39062a\" ><thead>    <tr>        <th class=\"blank level0\" ></th>        <th class=\"col_heading level0 col0\" >preg</th>        <th class=\"col_heading level0 col1\" >plas</th>        <th class=\"col_heading level0 col2\" >pres</th>        <th class=\"col_heading level0 col3\" >skin</th>        <th class=\"col_heading level0 col4\" >test</th>        <th class=\"col_heading level0 col5\" >mass</th>        <th class=\"col_heading level0 col6\" >pedi</th>        <th class=\"col_heading level0 col7\" >age</th>        <th class=\"col_heading level0 col8\" >class</th>    </tr></thead><tbody>\n",
       "                <tr>\n",
       "                        <th id=\"T_7278c1a6_4c7f_11ea_a217_84a93e39062alevel0_row0\" class=\"row_heading level0 row0\" >preg</th>\n",
       "                        <td id=\"T_7278c1a6_4c7f_11ea_a217_84a93e39062arow0_col0\" class=\"data row0 col0\" >1</td>\n",
       "                        <td id=\"T_7278c1a6_4c7f_11ea_a217_84a93e39062arow0_col1\" class=\"data row0 col1\" >0.13</td>\n",
       "                        <td id=\"T_7278c1a6_4c7f_11ea_a217_84a93e39062arow0_col2\" class=\"data row0 col2\" >0.14</td>\n",
       "                        <td id=\"T_7278c1a6_4c7f_11ea_a217_84a93e39062arow0_col3\" class=\"data row0 col3\" >-0.082</td>\n",
       "                        <td id=\"T_7278c1a6_4c7f_11ea_a217_84a93e39062arow0_col4\" class=\"data row0 col4\" >-0.074</td>\n",
       "                        <td id=\"T_7278c1a6_4c7f_11ea_a217_84a93e39062arow0_col5\" class=\"data row0 col5\" >0.018</td>\n",
       "                        <td id=\"T_7278c1a6_4c7f_11ea_a217_84a93e39062arow0_col6\" class=\"data row0 col6\" >-0.034</td>\n",
       "                        <td id=\"T_7278c1a6_4c7f_11ea_a217_84a93e39062arow0_col7\" class=\"data row0 col7\" >0.54</td>\n",
       "                        <td id=\"T_7278c1a6_4c7f_11ea_a217_84a93e39062arow0_col8\" class=\"data row0 col8\" >0.22</td>\n",
       "            </tr>\n",
       "            <tr>\n",
       "                        <th id=\"T_7278c1a6_4c7f_11ea_a217_84a93e39062alevel0_row1\" class=\"row_heading level0 row1\" >plas</th>\n",
       "                        <td id=\"T_7278c1a6_4c7f_11ea_a217_84a93e39062arow1_col0\" class=\"data row1 col0\" >0.13</td>\n",
       "                        <td id=\"T_7278c1a6_4c7f_11ea_a217_84a93e39062arow1_col1\" class=\"data row1 col1\" >1</td>\n",
       "                        <td id=\"T_7278c1a6_4c7f_11ea_a217_84a93e39062arow1_col2\" class=\"data row1 col2\" >0.15</td>\n",
       "                        <td id=\"T_7278c1a6_4c7f_11ea_a217_84a93e39062arow1_col3\" class=\"data row1 col3\" >0.057</td>\n",
       "                        <td id=\"T_7278c1a6_4c7f_11ea_a217_84a93e39062arow1_col4\" class=\"data row1 col4\" >0.33</td>\n",
       "                        <td id=\"T_7278c1a6_4c7f_11ea_a217_84a93e39062arow1_col5\" class=\"data row1 col5\" >0.22</td>\n",
       "                        <td id=\"T_7278c1a6_4c7f_11ea_a217_84a93e39062arow1_col6\" class=\"data row1 col6\" >0.14</td>\n",
       "                        <td id=\"T_7278c1a6_4c7f_11ea_a217_84a93e39062arow1_col7\" class=\"data row1 col7\" >0.26</td>\n",
       "                        <td id=\"T_7278c1a6_4c7f_11ea_a217_84a93e39062arow1_col8\" class=\"data row1 col8\" >0.47</td>\n",
       "            </tr>\n",
       "            <tr>\n",
       "                        <th id=\"T_7278c1a6_4c7f_11ea_a217_84a93e39062alevel0_row2\" class=\"row_heading level0 row2\" >pres</th>\n",
       "                        <td id=\"T_7278c1a6_4c7f_11ea_a217_84a93e39062arow2_col0\" class=\"data row2 col0\" >0.14</td>\n",
       "                        <td id=\"T_7278c1a6_4c7f_11ea_a217_84a93e39062arow2_col1\" class=\"data row2 col1\" >0.15</td>\n",
       "                        <td id=\"T_7278c1a6_4c7f_11ea_a217_84a93e39062arow2_col2\" class=\"data row2 col2\" >1</td>\n",
       "                        <td id=\"T_7278c1a6_4c7f_11ea_a217_84a93e39062arow2_col3\" class=\"data row2 col3\" >0.21</td>\n",
       "                        <td id=\"T_7278c1a6_4c7f_11ea_a217_84a93e39062arow2_col4\" class=\"data row2 col4\" >0.089</td>\n",
       "                        <td id=\"T_7278c1a6_4c7f_11ea_a217_84a93e39062arow2_col5\" class=\"data row2 col5\" >0.28</td>\n",
       "                        <td id=\"T_7278c1a6_4c7f_11ea_a217_84a93e39062arow2_col6\" class=\"data row2 col6\" >0.041</td>\n",
       "                        <td id=\"T_7278c1a6_4c7f_11ea_a217_84a93e39062arow2_col7\" class=\"data row2 col7\" >0.24</td>\n",
       "                        <td id=\"T_7278c1a6_4c7f_11ea_a217_84a93e39062arow2_col8\" class=\"data row2 col8\" >0.065</td>\n",
       "            </tr>\n",
       "            <tr>\n",
       "                        <th id=\"T_7278c1a6_4c7f_11ea_a217_84a93e39062alevel0_row3\" class=\"row_heading level0 row3\" >skin</th>\n",
       "                        <td id=\"T_7278c1a6_4c7f_11ea_a217_84a93e39062arow3_col0\" class=\"data row3 col0\" >-0.082</td>\n",
       "                        <td id=\"T_7278c1a6_4c7f_11ea_a217_84a93e39062arow3_col1\" class=\"data row3 col1\" >0.057</td>\n",
       "                        <td id=\"T_7278c1a6_4c7f_11ea_a217_84a93e39062arow3_col2\" class=\"data row3 col2\" >0.21</td>\n",
       "                        <td id=\"T_7278c1a6_4c7f_11ea_a217_84a93e39062arow3_col3\" class=\"data row3 col3\" >1</td>\n",
       "                        <td id=\"T_7278c1a6_4c7f_11ea_a217_84a93e39062arow3_col4\" class=\"data row3 col4\" >0.44</td>\n",
       "                        <td id=\"T_7278c1a6_4c7f_11ea_a217_84a93e39062arow3_col5\" class=\"data row3 col5\" >0.39</td>\n",
       "                        <td id=\"T_7278c1a6_4c7f_11ea_a217_84a93e39062arow3_col6\" class=\"data row3 col6\" >0.18</td>\n",
       "                        <td id=\"T_7278c1a6_4c7f_11ea_a217_84a93e39062arow3_col7\" class=\"data row3 col7\" >-0.11</td>\n",
       "                        <td id=\"T_7278c1a6_4c7f_11ea_a217_84a93e39062arow3_col8\" class=\"data row3 col8\" >0.075</td>\n",
       "            </tr>\n",
       "            <tr>\n",
       "                        <th id=\"T_7278c1a6_4c7f_11ea_a217_84a93e39062alevel0_row4\" class=\"row_heading level0 row4\" >test</th>\n",
       "                        <td id=\"T_7278c1a6_4c7f_11ea_a217_84a93e39062arow4_col0\" class=\"data row4 col0\" >-0.074</td>\n",
       "                        <td id=\"T_7278c1a6_4c7f_11ea_a217_84a93e39062arow4_col1\" class=\"data row4 col1\" >0.33</td>\n",
       "                        <td id=\"T_7278c1a6_4c7f_11ea_a217_84a93e39062arow4_col2\" class=\"data row4 col2\" >0.089</td>\n",
       "                        <td id=\"T_7278c1a6_4c7f_11ea_a217_84a93e39062arow4_col3\" class=\"data row4 col3\" >0.44</td>\n",
       "                        <td id=\"T_7278c1a6_4c7f_11ea_a217_84a93e39062arow4_col4\" class=\"data row4 col4\" >1</td>\n",
       "                        <td id=\"T_7278c1a6_4c7f_11ea_a217_84a93e39062arow4_col5\" class=\"data row4 col5\" >0.2</td>\n",
       "                        <td id=\"T_7278c1a6_4c7f_11ea_a217_84a93e39062arow4_col6\" class=\"data row4 col6\" >0.19</td>\n",
       "                        <td id=\"T_7278c1a6_4c7f_11ea_a217_84a93e39062arow4_col7\" class=\"data row4 col7\" >-0.042</td>\n",
       "                        <td id=\"T_7278c1a6_4c7f_11ea_a217_84a93e39062arow4_col8\" class=\"data row4 col8\" >0.13</td>\n",
       "            </tr>\n",
       "            <tr>\n",
       "                        <th id=\"T_7278c1a6_4c7f_11ea_a217_84a93e39062alevel0_row5\" class=\"row_heading level0 row5\" >mass</th>\n",
       "                        <td id=\"T_7278c1a6_4c7f_11ea_a217_84a93e39062arow5_col0\" class=\"data row5 col0\" >0.018</td>\n",
       "                        <td id=\"T_7278c1a6_4c7f_11ea_a217_84a93e39062arow5_col1\" class=\"data row5 col1\" >0.22</td>\n",
       "                        <td id=\"T_7278c1a6_4c7f_11ea_a217_84a93e39062arow5_col2\" class=\"data row5 col2\" >0.28</td>\n",
       "                        <td id=\"T_7278c1a6_4c7f_11ea_a217_84a93e39062arow5_col3\" class=\"data row5 col3\" >0.39</td>\n",
       "                        <td id=\"T_7278c1a6_4c7f_11ea_a217_84a93e39062arow5_col4\" class=\"data row5 col4\" >0.2</td>\n",
       "                        <td id=\"T_7278c1a6_4c7f_11ea_a217_84a93e39062arow5_col5\" class=\"data row5 col5\" >1</td>\n",
       "                        <td id=\"T_7278c1a6_4c7f_11ea_a217_84a93e39062arow5_col6\" class=\"data row5 col6\" >0.14</td>\n",
       "                        <td id=\"T_7278c1a6_4c7f_11ea_a217_84a93e39062arow5_col7\" class=\"data row5 col7\" >0.036</td>\n",
       "                        <td id=\"T_7278c1a6_4c7f_11ea_a217_84a93e39062arow5_col8\" class=\"data row5 col8\" >0.29</td>\n",
       "            </tr>\n",
       "            <tr>\n",
       "                        <th id=\"T_7278c1a6_4c7f_11ea_a217_84a93e39062alevel0_row6\" class=\"row_heading level0 row6\" >pedi</th>\n",
       "                        <td id=\"T_7278c1a6_4c7f_11ea_a217_84a93e39062arow6_col0\" class=\"data row6 col0\" >-0.034</td>\n",
       "                        <td id=\"T_7278c1a6_4c7f_11ea_a217_84a93e39062arow6_col1\" class=\"data row6 col1\" >0.14</td>\n",
       "                        <td id=\"T_7278c1a6_4c7f_11ea_a217_84a93e39062arow6_col2\" class=\"data row6 col2\" >0.041</td>\n",
       "                        <td id=\"T_7278c1a6_4c7f_11ea_a217_84a93e39062arow6_col3\" class=\"data row6 col3\" >0.18</td>\n",
       "                        <td id=\"T_7278c1a6_4c7f_11ea_a217_84a93e39062arow6_col4\" class=\"data row6 col4\" >0.19</td>\n",
       "                        <td id=\"T_7278c1a6_4c7f_11ea_a217_84a93e39062arow6_col5\" class=\"data row6 col5\" >0.14</td>\n",
       "                        <td id=\"T_7278c1a6_4c7f_11ea_a217_84a93e39062arow6_col6\" class=\"data row6 col6\" >1</td>\n",
       "                        <td id=\"T_7278c1a6_4c7f_11ea_a217_84a93e39062arow6_col7\" class=\"data row6 col7\" >0.034</td>\n",
       "                        <td id=\"T_7278c1a6_4c7f_11ea_a217_84a93e39062arow6_col8\" class=\"data row6 col8\" >0.17</td>\n",
       "            </tr>\n",
       "            <tr>\n",
       "                        <th id=\"T_7278c1a6_4c7f_11ea_a217_84a93e39062alevel0_row7\" class=\"row_heading level0 row7\" >age</th>\n",
       "                        <td id=\"T_7278c1a6_4c7f_11ea_a217_84a93e39062arow7_col0\" class=\"data row7 col0\" >0.54</td>\n",
       "                        <td id=\"T_7278c1a6_4c7f_11ea_a217_84a93e39062arow7_col1\" class=\"data row7 col1\" >0.26</td>\n",
       "                        <td id=\"T_7278c1a6_4c7f_11ea_a217_84a93e39062arow7_col2\" class=\"data row7 col2\" >0.24</td>\n",
       "                        <td id=\"T_7278c1a6_4c7f_11ea_a217_84a93e39062arow7_col3\" class=\"data row7 col3\" >-0.11</td>\n",
       "                        <td id=\"T_7278c1a6_4c7f_11ea_a217_84a93e39062arow7_col4\" class=\"data row7 col4\" >-0.042</td>\n",
       "                        <td id=\"T_7278c1a6_4c7f_11ea_a217_84a93e39062arow7_col5\" class=\"data row7 col5\" >0.036</td>\n",
       "                        <td id=\"T_7278c1a6_4c7f_11ea_a217_84a93e39062arow7_col6\" class=\"data row7 col6\" >0.034</td>\n",
       "                        <td id=\"T_7278c1a6_4c7f_11ea_a217_84a93e39062arow7_col7\" class=\"data row7 col7\" >1</td>\n",
       "                        <td id=\"T_7278c1a6_4c7f_11ea_a217_84a93e39062arow7_col8\" class=\"data row7 col8\" >0.24</td>\n",
       "            </tr>\n",
       "            <tr>\n",
       "                        <th id=\"T_7278c1a6_4c7f_11ea_a217_84a93e39062alevel0_row8\" class=\"row_heading level0 row8\" >class</th>\n",
       "                        <td id=\"T_7278c1a6_4c7f_11ea_a217_84a93e39062arow8_col0\" class=\"data row8 col0\" >0.22</td>\n",
       "                        <td id=\"T_7278c1a6_4c7f_11ea_a217_84a93e39062arow8_col1\" class=\"data row8 col1\" >0.47</td>\n",
       "                        <td id=\"T_7278c1a6_4c7f_11ea_a217_84a93e39062arow8_col2\" class=\"data row8 col2\" >0.065</td>\n",
       "                        <td id=\"T_7278c1a6_4c7f_11ea_a217_84a93e39062arow8_col3\" class=\"data row8 col3\" >0.075</td>\n",
       "                        <td id=\"T_7278c1a6_4c7f_11ea_a217_84a93e39062arow8_col4\" class=\"data row8 col4\" >0.13</td>\n",
       "                        <td id=\"T_7278c1a6_4c7f_11ea_a217_84a93e39062arow8_col5\" class=\"data row8 col5\" >0.29</td>\n",
       "                        <td id=\"T_7278c1a6_4c7f_11ea_a217_84a93e39062arow8_col6\" class=\"data row8 col6\" >0.17</td>\n",
       "                        <td id=\"T_7278c1a6_4c7f_11ea_a217_84a93e39062arow8_col7\" class=\"data row8 col7\" >0.24</td>\n",
       "                        <td id=\"T_7278c1a6_4c7f_11ea_a217_84a93e39062arow8_col8\" class=\"data row8 col8\" >1</td>\n",
       "            </tr>\n",
       "    </tbody></table>"
      ],
      "text/plain": [
       "<pandas.io.formats.style.Styler at 0x1441a4cf788>"
      ]
     },
     "execution_count": 57,
     "metadata": {},
     "output_type": "execute_result"
    }
   ],
   "source": [
    "import pandas as pd\n",
    "import numpy as np\n",
    "\n",
    "# 'RdBu_r' & 'BrBG' are other good diverging colormaps\n",
    "correlations.style.background_gradient(cmap='coolwarm').set_precision(2)"
   ]
  },
  {
   "cell_type": "markdown",
   "metadata": {},
   "source": [
    "## 5.7 Skew ('sesgo') of Univariate Distributions\n",
    "\n",
    "Skew refers to a distribution that is assumed Gaussian (normal or bell curve) that is shifted or squashed in one direction or another. <a>Many Machine Learning algorithms assume a Gaussian distribution</a>. Knowing that an attribute has a skew may allow you to perform data preparation to correct the skew and later improve the accuracy of your models. You can calculate the skew of each attribute using the skew() function on the Pandas DataFrame."
   ]
  },
  {
   "cell_type": "code",
   "execution_count": 58,
   "metadata": {},
   "outputs": [
    {
     "name": "stdout",
     "output_type": "stream",
     "text": [
      "preg     0.902\n",
      "plas     0.174\n",
      "pres    -1.844\n",
      "skin     0.109\n",
      "test     2.272\n",
      "mass    -0.429\n",
      "pedi     1.920\n",
      "age      1.130\n",
      "class    0.635\n",
      "dtype: float64\n"
     ]
    }
   ],
   "source": [
    "# Skew for each attribute\n",
    "from pandas import read_csv\n",
    "\n",
    "filename = '.\\data\\pima-indians-diabetes.data.csv'\n",
    "\n",
    "names = ['preg', 'plas', 'pres', 'skin', 'test', 'mass', 'pedi', 'age', 'class']\n",
    "data = read_csv(filename, names=names)\n",
    "\n",
    "skew = data.skew()\n",
    "print(skew)"
   ]
  },
  {
   "cell_type": "markdown",
   "metadata": {},
   "source": [
    "<b>Note</b>. The skew result show a positive (right) or negative (left) skew. <a>Values closer to zero show less skew</a>."
   ]
  },
  {
   "cell_type": "markdown",
   "metadata": {},
   "source": [
    "## 5.8 Tips To Remember\n",
    "\n",
    "This section gives you some tips to remember when reviewing your data using summary statistics.\n",
    "- <b>Review the numbers</b>. Generating the summary statistics is not enough. Take a moment to pause, read and really think about the numbers you are seeing.\n",
    "\n",
    "- <b>Ask why</b>. Review your numbers and ask a lot of questions. How and why are you seeing specific numbers. Think about how the numbers relate to the problem domain in general and specific entities that observations relate to.\n",
    "\n",
    "- <b>Write down ideas</b>. Write down your observations and ideas. Keep a small text file or note pad and jot down all of the ideas for how variables may relate, for what numbers mean, and ideas for techniques to try later. The things you write down now while the data is fresh will be very valuable later when you are trying to think up new things to try."
   ]
  },
  {
   "cell_type": "code",
   "execution_count": null,
   "metadata": {},
   "outputs": [],
   "source": []
  }
 ],
 "metadata": {
  "kernelspec": {
   "display_name": "Python 3",
   "language": "python",
   "name": "python3"
  },
  "language_info": {
   "codemirror_mode": {
    "name": "ipython",
    "version": 3
   },
   "file_extension": ".py",
   "mimetype": "text/x-python",
   "name": "python",
   "nbconvert_exporter": "python",
   "pygments_lexer": "ipython3",
   "version": "3.7.4"
  }
 },
 "nbformat": 4,
 "nbformat_minor": 2
}
