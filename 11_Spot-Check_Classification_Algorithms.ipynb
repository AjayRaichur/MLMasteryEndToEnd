{
 "cells": [
  {
   "cell_type": "markdown",
   "metadata": {},
   "source": [
    "# Chapter 11\n",
    "# Spot-Check Classification Algorithms\n",
    "\n",
    "Spot-checking is a way of discovering which algorithms perform well on your machine learning problem. You cannot know which algorithms are best suited to your problem beforehand. You must trial a number of methods and focus attention on those that prove themselves the most promising. In this chapter you will discover six machine learning algorithms that you can use when spot-checking your **classification problem** in Python with scikit-learn. After completing this lesson you will know:\n",
    "1. How to spot-check machine learning algorithms on a classification problem.\n",
    "2. How to spot-check two linear classification algorithms.\n",
    "3. How to spot-check four nonlinear classification algorithms.\n",
    "\n",
    "Let's get started.\n",
    "\n",
    "## 11.1 Algorithm Spot-Checking \n",
    "`****verificación al azar****`\n",
    "\n",
    "You cannot know which algorithm will work best on your dataset beforehand. <a>You must use trial and error to discover a shortlist of algorithms that do well on your problem that you can then double down on and tune further</a>. I call this **>process spot-checking**>.\n",
    "\n",
    "The question is not: **What algorithm should I `use` on my dataset**? Instead it is: **What algorithms should I `spot-check` on my dataset**? You can guess at what algorithms might do well on your dataset, and this can be a good starting point. I recommend trying a mixture of algorithms and see what is good at picking out the structure in your data. Below are some suggestions when spot-checking algorithms on your dataset:\n",
    "***\n",
    "- Try a mixture of `algorithm representations` (e.g. instances and trees).\n",
    "- Try a mixture of `learning algorithms` (e.g. different algorithms for learning the same type of representation).\n",
    "- Try a mixture of `modeling types` (e.g. linear and nonlinear functions or parametric and nonparametric).\n",
    "***\n",
    "Let's get specific. In the next section, we will look at algorithms that you can use to spot-check on your next classification machine learning project in Python.\n",
    "\n",
    "## 11.2 Algorithms Overview\n",
    "\n",
    "We are going to take a look at six **classification algorithms** that you can spot-check on your dataset. Starting with two `linear machine learning` algorithms:\n",
    "- Logistic Regression.\n",
    "- Linear Discriminant Analysis.\n",
    "\n",
    "Then looking at four `nonlinear machine learning` algorithms:\n",
    "- k-Nearest Neighbors.\n",
    "- Naive Bayes.\n",
    "- Classification and Regression Trees.\n",
    "- Support Vector Machines.\n",
    "\n",
    "Each recipe is demonstrated on the dataset. A test harness using 10-fold cross validation is used to demonstrate how to spot-check each machine learning algorithm and mean accuracy measures are used to indicate algorithm performance. The recipes assume that you know about each machine learning algorithm and how to use them. We will not go into the API or parameterization of each algorithm.\n",
    "\n",
    "## 11.3 Linear Machine Learning Algorithms\n",
    "\n",
    "This section demonstrates minimal recipes for how to use two linear machine learning algorithms: `logistic regression` and `linear discriminant` analysis.\n",
    "\n",
    "### 11.3.1 Logistic Regression\n",
    "\n",
    "Logistic regression <a>assumes a Gaussian distribution for the numeric input variables and can model binary classification problems</a>. You can construct a logistic regression model using the LogisticRegression class."
   ]
  },
  {
   "cell_type": "code",
   "execution_count": 3,
   "metadata": {},
   "outputs": [
    {
     "name": "stdout",
     "output_type": "stream",
     "text": [
      "0.7695146958304853\n"
     ]
    }
   ],
   "source": [
    "# Logistic Regression Classification\n",
    "from pandas import read_csv\n",
    "from sklearn.model_selection import KFold\n",
    "from sklearn.model_selection import cross_val_score\n",
    "from sklearn.linear_model import LogisticRegression\n",
    "\n",
    "# load data\n",
    "filename = '.\\data\\pima-indians-diabetes.data.csv'\n",
    "\n",
    "names = ['preg', 'plas', 'pres', 'skin', 'test', 'mass', 'pedi', 'age', 'class']\n",
    "dataframe = read_csv(filename, names=names)\n",
    "array = dataframe.values\n",
    "X = array[:,0:8]\n",
    "Y = array[:,8]\n",
    "\n",
    "num_folds = 10\n",
    "kfold = KFold(n_splits=10, random_state=7)\n",
    "model = LogisticRegression(solver='liblinear')\n",
    "\n",
    "results = cross_val_score(model, X, Y, cv=kfold)\n",
    "print(results.mean())"
   ]
  },
  {
   "cell_type": "markdown",
   "metadata": {},
   "source": [
    "Running the example prints the mean estimated accuracy.\n",
    "\n",
    "### 11.3.2 Linear Discriminant Analysis\n",
    "\n",
    "Linear Discriminant Analysis or `LDA` is a <a>statistical technique for **binary and multiclass** classification. It too assumes a Gaussian distribution for the numerical input variables</a>. You can construct an LDA model using the LinearDiscriminantAnalysis class."
   ]
  },
  {
   "cell_type": "code",
   "execution_count": 4,
   "metadata": {},
   "outputs": [
    {
     "name": "stdout",
     "output_type": "stream",
     "text": [
      "0.773462064251538\n"
     ]
    }
   ],
   "source": [
    "# LDA Classification\n",
    "from pandas import read_csv\n",
    "from sklearn.model_selection import KFold\n",
    "from sklearn.model_selection import cross_val_score\n",
    "from sklearn.discriminant_analysis import LinearDiscriminantAnalysis\n",
    "\n",
    "# load data\n",
    "filename = '.\\data\\pima-indians-diabetes.data.csv'\n",
    "\n",
    "names = ['preg', 'plas', 'pres', 'skin', 'test', 'mass', 'pedi', 'age', 'class']\n",
    "dataframe = read_csv(filename, names=names)\n",
    "array = dataframe.values\n",
    "X = array[:,0:8]\n",
    "Y = array[:,8]\n",
    "\n",
    "num_folds = 10\n",
    "kfold = KFold(n_splits=10, random_state=7)\n",
    "model = LinearDiscriminantAnalysis()\n",
    "\n",
    "results = cross_val_score(model, X, Y, cv=kfold)\n",
    "print(results.mean())"
   ]
  },
  {
   "cell_type": "markdown",
   "metadata": {},
   "source": [
    "Running the example prints the mean estimated accuracy.\n",
    "\n",
    "## 11.4 Nonlinear Machine Learning Algorithms\n",
    "\n",
    "This section demonstrates minimal recipes for how to use 4 nonlinear machine learning algorithms.\n",
    "\n",
    "### 11.4.1 k-Nearest Neighbors\n",
    "The k-Nearest Neighbors algorithm (or `KNN`) uses a <a>distance metric to find the k most similar instances in the training data for a new instance and takes the mean outcome of the neighbors as the prediction</a>. You can construct a KNN model using the KNeighborsClassifier class."
   ]
  },
  {
   "cell_type": "code",
   "execution_count": 5,
   "metadata": {},
   "outputs": [
    {
     "name": "stdout",
     "output_type": "stream",
     "text": [
      "0.7265550239234451\n"
     ]
    }
   ],
   "source": [
    "# KNN Classification\n",
    "from pandas import read_csv\n",
    "from sklearn.model_selection import KFold\n",
    "from sklearn.model_selection import cross_val_score\n",
    "from sklearn.neighbors import KNeighborsClassifier\n",
    "\n",
    "# load data\n",
    "filename = '.\\data\\pima-indians-diabetes.data.csv'\n",
    "\n",
    "names = ['preg', 'plas', 'pres', 'skin', 'test', 'mass', 'pedi', 'age', 'class']\n",
    "dataframe = read_csv(filename, names=names)\n",
    "array = dataframe.values\n",
    "X = array[:,0:8]\n",
    "Y = array[:,8]\n",
    "\n",
    "num_folds = 10\n",
    "kfold = KFold(n_splits=10, random_state=7)\n",
    "model = KNeighborsClassifier()\n",
    "\n",
    "results = cross_val_score(model, X, Y, cv=kfold)\n",
    "print(results.mean())"
   ]
  },
  {
   "cell_type": "markdown",
   "metadata": {},
   "source": [
    "Running the example prints the mean estimated accuracy.\n",
    "\n",
    "### 11.4.2 Naive Bayes\n",
    "\n",
    "Naive Bayes calculates the <a>probability of each class and the conditional probability of each class given each input value. These probabilities are estimated for new data and multiplied together, assuming that they are all independent (a simple or naive assumption)</a>. When working with <a>real-valued data, a Gaussian distribution is assumed to easily estimate the probabilities for input variables using the Gaussian Probability Density Function</a>. You can construct a Naive Bayes model using the GaussianNB class."
   ]
  },
  {
   "cell_type": "code",
   "execution_count": 6,
   "metadata": {},
   "outputs": [
    {
     "name": "stdout",
     "output_type": "stream",
     "text": [
      "0.7551777170198223\n"
     ]
    }
   ],
   "source": [
    "# Gaussian Naive Bayes Classification\n",
    "from pandas import read_csv\n",
    "from sklearn.model_selection import KFold\n",
    "from sklearn.model_selection import cross_val_score\n",
    "from sklearn.naive_bayes import GaussianNB\n",
    "\n",
    "# load data\n",
    "filename = '.\\data\\pima-indians-diabetes.data.csv'\n",
    "\n",
    "names = ['preg', 'plas', 'pres', 'skin', 'test', 'mass', 'pedi', 'age', 'class']\n",
    "dataframe = read_csv(filename, names=names)\n",
    "array = dataframe.values\n",
    "X = array[:,0:8]\n",
    "Y = array[:,8]\n",
    "\n",
    "kfold = KFold(n_splits=10, random_state=7)\n",
    "model = GaussianNB()\n",
    "\n",
    "results = cross_val_score(model, X, Y, cv=kfold)\n",
    "print(results.mean())"
   ]
  },
  {
   "cell_type": "markdown",
   "metadata": {},
   "source": [
    "Running the example prints the mean estimated accuracy.\n",
    "\n",
    "### 11.4.3 Classification and Regression Trees\n",
    "\n",
    "Classification and Regression Trees (`CART` or just `decision trees`) construct a binary tree from the training data. <a>Split points are chosen greedily by evaluating each attribute and each value of each attribute in the training data in order to minimize a cost function (like the Gini index)</a>. \n",
    "You can construct a CART model using the DecisionTreeClassifier class."
   ]
  },
  {
   "cell_type": "code",
   "execution_count": 7,
   "metadata": {},
   "outputs": [
    {
     "name": "stdout",
     "output_type": "stream",
     "text": [
      "0.7004955570745044\n"
     ]
    }
   ],
   "source": [
    "# CART Classification\n",
    "from pandas import read_csv\n",
    "from sklearn.model_selection import KFold\n",
    "from sklearn.model_selection import cross_val_score\n",
    "from sklearn.tree import DecisionTreeClassifier\n",
    "\n",
    "# load data\n",
    "filename = '.\\data\\pima-indians-diabetes.data.csv'\n",
    "\n",
    "names = ['preg', 'plas', 'pres', 'skin', 'test', 'mass', 'pedi', 'age', 'class']\n",
    "dataframe = read_csv(filename, names=names)\n",
    "array = dataframe.values\n",
    "X = array[:,0:8]\n",
    "Y = array[:,8]\n",
    "kfold = KFold(n_splits=10, random_state=7)\n",
    "model = DecisionTreeClassifier()\n",
    "\n",
    "results = cross_val_score(model, X, Y, cv=kfold)\n",
    "print(results.mean())"
   ]
  },
  {
   "cell_type": "markdown",
   "metadata": {},
   "source": [
    "Running the example prints the mean estimated accuracy.\n",
    "\n",
    "### 11.4.4 Support Vector Machines\n",
    "\n",
    "Support Vector Machines (or `SVM`) <a>seek a line that best separates two classes. Those data instances that are closest to the line that best separates the classes are called support vectors and infuence where the line is placed</a>. SVM has been extended to support multiple classes. Of particular importance is the use of different kernel functions via the kernel parameter. A powerful Radial Basis Function is used by default. You can construct an SVM model using the SVC class."
   ]
  },
  {
   "cell_type": "code",
   "execution_count": 14,
   "metadata": {},
   "outputs": [
    {
     "name": "stdout",
     "output_type": "stream",
     "text": [
      "0.7604237867395763\n"
     ]
    }
   ],
   "source": [
    "# SVM Classification\n",
    "from pandas import read_csv\n",
    "from sklearn.model_selection import KFold\n",
    "from sklearn.model_selection import cross_val_score\n",
    "from sklearn.svm import SVC\n",
    "\n",
    "# load data\n",
    "filename = '.\\data\\pima-indians-diabetes.data.csv'\n",
    "\n",
    "names = ['preg', 'plas', 'pres', 'skin', 'test', 'mass', 'pedi', 'age', 'class']\n",
    "dataframe = read_csv(filename, names=names)\n",
    "array = dataframe.values\n",
    "X = array[:,0:8]\n",
    "Y = array[:,8]\n",
    "\n",
    "kfold = KFold(n_splits=10, random_state=7)\n",
    "\n",
    "# create and configure model\n",
    "\n",
    "#To maintain the old behavior, you can specify the argument as follows:\n",
    "#model = SVC(gamma='auto')  # 0.6510252904989747\n",
    "\n",
    "#To support the new behavior (recommended), you can specify the argument as follows:\n",
    "model = SVC(gamma='scale')  # 0.7604237867395763  \n",
    "\n",
    "results = cross_val_score(model, X, Y, cv=kfold)\n",
    "print(results.mean())"
   ]
  },
  {
   "cell_type": "markdown",
   "metadata": {},
   "source": [
    "Running the example prints the mean estimated accuracy."
   ]
  }
 ],
 "metadata": {
  "kernelspec": {
   "display_name": "Python 3",
   "language": "python",
   "name": "python3"
  },
  "language_info": {
   "codemirror_mode": {
    "name": "ipython",
    "version": 3
   },
   "file_extension": ".py",
   "mimetype": "text/x-python",
   "name": "python",
   "nbconvert_exporter": "python",
   "pygments_lexer": "ipython3",
   "version": "3.7.4"
  }
 },
 "nbformat": 4,
 "nbformat_minor": 2
}
